{
 "cells": [
  {
   "cell_type": "markdown",
   "metadata": {},
   "source": [
    "In this exploration we analyze the demographics and movie preferences of our customer base.  Our larger objective is to connect customers to relevant content in our inventory.  \n",
    "\n",
    "We may be interested in segmenting our population on any number of features, to enable the use of different strategies to promote content specifically tailored to each segment. Although we will not run a segmentation analysis in this demo, we can begin the process by quickly looking if there are any obvious groups of users based on their demographics."
   ]
  },
  {
   "cell_type": "code",
   "execution_count": 2,
   "metadata": {
    "_datascience": {}
   },
   "outputs": [],
   "source": [
    "# Import standard packages\n",
    "\n",
    "from IPython.display import clear_output\n",
    "import warnings\n",
    "warnings.filterwarnings('ignore')\n",
    "\n",
    "import os\n",
    "import pandas as pd\n",
    "import numpy as np\n",
    "from scipy.spatial.distance import pdist, cosine\n",
    "\n",
    "!pip install plotly\n",
    "from plotly import tools\n",
    "import plotly.graph_objs as go\n",
    "from plotly.tools import FigureFactory as FF\n",
    "import plotly.plotly as py\n",
    "tools.set_credentials_file(username='DSOnboardingDemos', api_key='2ETR1b8sWOCWoVoQvpSy')\n",
    "tools.set_config_file(world_readable=True, sharing='public')\n",
    "\n",
    "clear_output()"
   ]
  },
  {
   "cell_type": "code",
   "execution_count": 3,
   "metadata": {
    "_datascience": {}
   },
   "outputs": [
    {
     "name": "stdout",
     "output_type": "stream",
     "text": [
      "Get:1 https://deb.nodesource.com/node_6.x xenial InRelease [4,634 B]\n",
      "Get:2 https://deb.nodesource.com/node_6.x xenial/main Sources [766 B]          \n",
      "Get:3 https://deb.nodesource.com/node_6.x xenial/main amd64 Packages [963 B]   \n",
      "Get:4 http://archive.ubuntu.com/ubuntu xenial InRelease [247 kB]               \n",
      "Get:5 http://ppa.launchpad.net/openjdk-r/ppa/ubuntu xenial InRelease [17.5 kB] \n",
      "Get:6 http://ppa.launchpad.net/openjdk-r/ppa/ubuntu xenial/main amd64 Packages [7,096 B]\n",
      "Get:7 http://cran.fhcrc.org/bin/linux/ubuntu xenial/ InRelease [3,590 B]       \n",
      "Get:8 http://cran.fhcrc.org/bin/linux/ubuntu xenial/ Packages [75.2 kB] \n",
      "Get:9 http://archive.ubuntu.com/ubuntu xenial-updates InRelease [102 kB]\n",
      "Get:10 http://archive.ubuntu.com/ubuntu xenial-security InRelease [102 kB]     \n",
      "Get:11 http://archive.ubuntu.com/ubuntu xenial/main Sources [1,103 kB]\n",
      "Get:12 http://archive.ubuntu.com/ubuntu xenial/restricted Sources [5,179 B]    \n",
      "Get:13 http://archive.ubuntu.com/ubuntu xenial/universe Sources [9,802 kB]\n",
      "Get:14 http://archive.ubuntu.com/ubuntu xenial/main amd64 Packages [1,558 kB]\n",
      "Get:15 http://archive.ubuntu.com/ubuntu xenial/restricted amd64 Packages [14.1 kB]\n",
      "Get:16 http://archive.ubuntu.com/ubuntu xenial/universe amd64 Packages [9,827 kB]\n",
      "Get:17 http://archive.ubuntu.com/ubuntu xenial-updates/main Sources [311 kB]\n",
      "Get:18 http://archive.ubuntu.com/ubuntu xenial-updates/restricted Sources [3,202 B]\n",
      "Get:19 http://archive.ubuntu.com/ubuntu xenial-updates/universe Sources [190 kB]\n",
      "Get:20 http://archive.ubuntu.com/ubuntu xenial-updates/main amd64 Packages [681 kB]\n",
      "Get:21 http://archive.ubuntu.com/ubuntu xenial-updates/restricted amd64 Packages [13.2 kB]\n",
      "Get:22 http://archive.ubuntu.com/ubuntu xenial-updates/universe amd64 Packages [587 kB]\n",
      "Get:23 http://archive.ubuntu.com/ubuntu xenial-security/main Sources [84.9 kB]\n",
      "Get:24 http://archive.ubuntu.com/ubuntu xenial-security/restricted Sources [2,779 B]\n",
      "Get:25 http://archive.ubuntu.com/ubuntu xenial-security/universe Sources [30.3 kB]\n",
      "Get:26 http://archive.ubuntu.com/ubuntu xenial-security/multiverse Sources [1,081 B]\n",
      "Get:27 http://archive.ubuntu.com/ubuntu xenial-security/main amd64 Packages [327 kB]\n",
      "Get:28 http://archive.ubuntu.com/ubuntu xenial-security/restricted amd64 Packages [12.8 kB]\n",
      "Get:29 http://archive.ubuntu.com/ubuntu xenial-security/universe amd64 Packages [137 kB]\n",
      "Get:30 http://archive.ubuntu.com/ubuntu xenial-security/multiverse amd64 Packages [2,932 B]\n",
      "Fetched 25.3 MB in 4s (5,701 kB/s)                           \n",
      "Reading package lists... Done\n",
      "Reading package lists... Done\n",
      "Building dependency tree       \n",
      "Reading state information... Done\n",
      "Suggested packages:\n",
      "  sqlite3-doc\n",
      "The following NEW packages will be installed:\n",
      "  libsqlite3-dev\n",
      "0 upgraded, 1 newly installed, 0 to remove and 28 not upgraded.\n",
      "Need to get 508 kB of archives.\n",
      "After this operation, 1,699 kB of additional disk space will be used.\n",
      "Get:1 http://archive.ubuntu.com/ubuntu xenial/main amd64 libsqlite3-dev amd64 3.11.0-1ubuntu1 [508 kB]\n",
      "Fetched 508 kB in 1s (507 kB/s)         \n",
      "debconf: delaying package configuration, since apt-utils is not installed\n",
      "Selecting previously unselected package libsqlite3-dev:amd64.\n",
      "(Reading database ... 39167 files and directories currently installed.)\n",
      "Preparing to unpack .../libsqlite3-dev_3.11.0-1ubuntu1_amd64.deb ...\n",
      "Unpacking libsqlite3-dev:amd64 (3.11.0-1ubuntu1) ...\n",
      "Setting up libsqlite3-dev:amd64 (3.11.0-1ubuntu1) ...\n",
      "Collecting pyzipcode\n",
      "  Downloading pyzipcode-1.0.zip (1.9MB)\n",
      "\u001b[K    100% |████████████████████████████████| 1.9MB 668kB/s eta 0:00:01\n",
      "\u001b[?25hCollecting pysqlite (from pyzipcode)\n",
      "  Downloading pysqlite-2.8.3.tar.gz (80kB)\n",
      "\u001b[K    100% |████████████████████████████████| 81kB 4.6MB/s eta 0:00:01\n",
      "\u001b[?25hBuilding wheels for collected packages: pyzipcode, pysqlite\n",
      "  Running setup.py bdist_wheel for pyzipcode ... \u001b[?25ldone\n",
      "\u001b[?25h  Stored in directory: /home/jupyter/.cache/pip/wheels/e4/99/42/630cb916d6b0236870c2d543722513b5b9ab616b609cc13dc5\n",
      "  Running setup.py bdist_wheel for pysqlite ... \u001b[?25ldone\n",
      "\u001b[?25h  Stored in directory: /home/jupyter/.cache/pip/wheels/8d/51/93/a0d94209490ba61411e63131db8f36d01af91d99fed89ceb2d\n",
      "Successfully built pyzipcode pysqlite\n",
      "Installing collected packages: pysqlite, pyzipcode\n",
      "Successfully installed pysqlite-2.8.3 pyzipcode-1.0\n"
     ]
    },
    {
     "ename": "ImportError",
     "evalue": "No module named featurize_helpers.functions",
     "output_type": "error",
     "traceback": [
      "\u001b[0;31m\u001b[0m",
      "\u001b[0;31mImportError\u001b[0mTraceback (most recent call last)",
      "\u001b[0;32m<ipython-input-3-92ab4d9e9dc6>\u001b[0m in \u001b[0;36m<module>\u001b[0;34m()\u001b[0m\n\u001b[1;32m      4\u001b[0m \u001b[0mget_ipython\u001b[0m\u001b[0;34m(\u001b[0m\u001b[0;34m)\u001b[0m\u001b[0;34m.\u001b[0m\u001b[0msystem\u001b[0m\u001b[0;34m(\u001b[0m\u001b[0;34mu'pip install pyzipcode;'\u001b[0m\u001b[0;34m)\u001b[0m\u001b[0;34m\u001b[0m\u001b[0m\n\u001b[1;32m      5\u001b[0m \u001b[0;34m\u001b[0m\u001b[0m\n\u001b[0;32m----> 6\u001b[0;31m \u001b[0;32mimport\u001b[0m \u001b[0mfeaturize_helpers\u001b[0m\u001b[0;34m.\u001b[0m\u001b[0mfunctions\u001b[0m \u001b[0;32mas\u001b[0m \u001b[0mfhf\u001b[0m\u001b[0;34m\u001b[0m\u001b[0m\n\u001b[0m\u001b[1;32m      7\u001b[0m \u001b[0;32mimport\u001b[0m \u001b[0mplotting_helpers\u001b[0m\u001b[0;34m.\u001b[0m\u001b[0mfunctions\u001b[0m \u001b[0;32mas\u001b[0m \u001b[0mphf\u001b[0m\u001b[0;34m\u001b[0m\u001b[0m\n\u001b[1;32m      8\u001b[0m \u001b[0;34m\u001b[0m\u001b[0m\n",
      "\u001b[0;31mImportError\u001b[0m: No module named featurize_helpers.functions"
     ]
    }
   ],
   "source": [
    "#Install a package, %%capture suppresses installation messages\n",
    "!sudo apt-get update\n",
    "!sudo apt-get -y install libsqlite3-dev;\n",
    "!pip install pyzipcode;\n",
    "\n",
    "import featurize_helpers.functions as fhf\n",
    "import plotting_helpers.functions as phf\n",
    "\n",
    "clear_output()"
   ]
  },
  {
   "cell_type": "markdown",
   "metadata": {
    "_datascience": {}
   },
   "source": [
    "# About the Data"
   ]
  },
  {
   "cell_type": "code",
   "execution_count": null,
   "metadata": {
    "_datascience": {},
    "collapsed": true
   },
   "outputs": [],
   "source": [
    "# Load the data\n",
    "data_dir = ''\n",
    "\n",
    "users = pd.read_csv(data_dir + 'u.user', sep = '|', names = ['user_id', 'age', 'sex', 'occupation', 'zip_code'],\n",
    "                    encoding = 'latin-1')\n",
    "\n",
    "ratings = pd.read_csv(data_dir + 'u.data', sep = '\\t', names = ['user_id', 'movie_id', 'rating', 'unix_timestamp'],\n",
    "                    encoding = 'latin-1')\n",
    "\n",
    "items = pd.read_csv(data_dir + 'u.item', sep = '|', \n",
    "                    names = ['movie id', 'movie title' ,'release date','video release date', \n",
    "                             'IMDb URL', 'unknown', 'Action', 'Adventure','Animation', \n",
    "                             'Children\\'s', 'Comedy', 'Crime', 'Documentary', 'Drama', 'Fantasy',\n",
    "                             'Film-Noir', 'Horror', 'Musical', 'Mystery', 'Romance', 'Sci-Fi', \n",
    "                             'Thriller', 'War', 'Western'],\n",
    "                    encoding = 'latin-1')\n",
    "\n",
    "# Create Features\n",
    "users['state'] = users.apply(lambda row: fhf.get_zip_data(row.zip_code, 'state'), axis = 1)\n",
    "\n",
    "user_features, user_demographics, normed_user_movie_ratings = fhf.get_user_features(users, items, ratings)\n",
    "user_features['zip_code'] = users['zip_code']\n",
    "item_features, item_names, item_ids = fhf.get_item_features(items)"
   ]
  },
  {
   "cell_type": "code",
   "execution_count": null,
   "metadata": {
    "_datascience": {},
    "collapsed": true
   },
   "outputs": [],
   "source": [
    "pd.set_option('display.max_columns', 5000)\n",
    "user_features.head()"
   ]
  },
  {
   "cell_type": "code",
   "execution_count": null,
   "metadata": {
    "_datascience": {},
    "collapsed": true
   },
   "outputs": [],
   "source": [
    "item_features.head()"
   ]
  },
  {
   "cell_type": "markdown",
   "metadata": {
    "_datascience": {
     "keep": false,
     "summary": false
    }
   },
   "source": [
    "# Exploratory Analysis"
   ]
  },
  {
   "cell_type": "markdown",
   "metadata": {
    "_datascience": {
     "keep": false,
     "summary": false
    }
   },
   "source": [
    "## User Demographics"
   ]
  },
  {
   "cell_type": "code",
   "execution_count": null,
   "metadata": {
    "_datascience": {},
    "collapsed": true
   },
   "outputs": [],
   "source": [
    "traces, layout = phf.user_scatter_plot(user_features)\n",
    "fig = go.Figure(data=traces, layout=layout)\n",
    "py.iplot(fig, filename='user_features')"
   ]
  },
  {
   "cell_type": "code",
   "execution_count": null,
   "metadata": {
    "_datascience": {
     "keep": false,
     "summary": false
    },
    "collapsed": true,
    "scrolled": false
   },
   "outputs": [],
   "source": [
    "trace, layout = phf.user_job_stacked_bar(user_features)\n",
    "fig = go.Figure(data=trace, layout=layout)\n",
    "py.iplot(fig, filename='user_features2') "
   ]
  },
  {
   "cell_type": "markdown",
   "metadata": {
    "_datascience": {
     "keep": false,
     "summary": false
    }
   },
   "source": [
    "### Results summary\n",
    "\n",
    "1.  Fill in an insight in this markup cell\n",
    "\n",
    "2.  Fill in another insight"
   ]
  },
  {
   "cell_type": "markdown",
   "metadata": {
    "_datascience": {
     "keep": true
    }
   },
   "source": [
    "# Comparison of inventory volume to average rating for each genre "
   ]
  },
  {
   "cell_type": "code",
   "execution_count": null,
   "metadata": {},
   "outputs": [],
   "source": [
    "trace0, trace1, layout = phf.inventory_hbar(user_features, item_features)\n",
    "\n",
    "# Creating two subplots, one for each of the two bar plots defined above\n",
    "fig = tools.make_subplots(rows=1, cols=2, specs=[[{}, {}]], shared_xaxes=True,\n",
    "                          shared_yaxes=False, vertical_spacing=0.001, print_grid=False)\n",
    "\n",
    "# Add the bar plots to the figure\n",
    "fig.append_trace(trace0, 1, 1)\n",
    "fig.append_trace(trace1, 1, 2)\n",
    "\n",
    "fig['layout'].update(layout)\n",
    "py.iplot(fig, filename='movie_genres')"
   ]
  },
  {
   "cell_type": "markdown",
   "metadata": {
    "_datascience": {
     "keep": true
    }
   },
   "source": [
    "### Results\n",
    "\n",
    "1.  Drama and Comedy make up most of our library.\n",
    "\n",
    "2.  Severely lacking in fantasy, animation, westerns, and film-noir.\n",
    "\n",
    "3.  Users who watched Film-Noir, War, and Documentary movies rated them very highly, but Drama and Comedy movies are lower quality.\n",
    "        a. We should consider getting more Film-Noir, War, and Documentary movies.\n",
    "        b. We should consider improving our Drama and Comedy selections."
   ]
  },
  {
   "cell_type": "markdown",
   "metadata": {
    "_datascience": {
     "keep": true,
     "summary": true
    }
   },
   "source": [
    "# Overlap in movie interests"
   ]
  },
  {
   "cell_type": "code",
   "execution_count": null,
   "metadata": {
    "_datascience": {},
    "collapsed": true
   },
   "outputs": [],
   "source": [
    "from matplotlib import pyplot as plt\n",
    "%matplotlib inline"
   ]
  },
  {
   "cell_type": "code",
   "execution_count": null,
   "metadata": {},
   "outputs": [],
   "source": [
    "phf.conditional_interest(user_features, item_features)"
   ]
  },
  {
   "cell_type": "markdown",
   "metadata": {
    "_datascience": {
     "keep": true,
     "summary": true
    }
   },
   "source": [
    "### Results\n",
    "\n",
    "1.  People who like Children's movies also like animation, but not vice versa.\n",
    "\n",
    "2.  Fantasy is very polarized.  If people aren't in the group who rates it 4+ stars, they rate it very low across the board.\n",
    "\n",
    "3.  War and Film-noir are highly rated across all groups.\n",
    "\n",
    "4.  There is significant overlap in interest between Horror and Thriller."
   ]
  }
 ],
 "metadata": {
  "_datascience": {
   "analyst": "Harry",
   "notebookId": 13,
   "notebook_path": "Onboarding/Demos/onboarding-demo-insights.ipynb",
   "post_id": "AVndIBsdcIjrRax4nR6a",
   "tags": "onboarding"
  },
  "anaconda-cloud": {},
  "kernelspec": {
   "display_name": "Python 2",
   "language": "python",
   "name": "python2"
  },
  "language_info": {
   "codemirror_mode": {
    "name": "ipython",
    "version": 2
   },
   "file_extension": ".py",
   "mimetype": "text/x-python",
   "name": "python",
   "nbconvert_exporter": "python",
   "pygments_lexer": "ipython2",
   "version": "2.7.12"
  }
 },
 "nbformat": 4,
 "nbformat_minor": 2
}
